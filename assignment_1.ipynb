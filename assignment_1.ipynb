{
  "nbformat": 4,
  "nbformat_minor": 0,
  "metadata": {
    "colab": {
      "provenance": [],
      "include_colab_link": true
    },
    "kernelspec": {
      "name": "python3",
      "display_name": "Python 3"
    },
    "language_info": {
      "name": "python"
    }
  },
  "cells": [
    {
      "cell_type": "markdown",
      "metadata": {
        "id": "view-in-github",
        "colab_type": "text"
      },
      "source": [
        "<a href=\"https://colab.research.google.com/github/JerryHung1103/ML/blob/PA1/assignment_1.ipynb\" target=\"_parent\"><img src=\"https://colab.research.google.com/assets/colab-badge.svg\" alt=\"Open In Colab\"/></a>"
      ]
    },
    {
      "cell_type": "markdown",
      "source": [
        "# COMP 4331 2023 Fall Assignment 1"
      ],
      "metadata": {
        "id": "1evs_nHxLbI6"
      }
    },
    {
      "cell_type": "markdown",
      "source": [
        "## Preparation"
      ],
      "metadata": {
        "id": "JJcN9oO3Lhrd"
      }
    },
    {
      "cell_type": "code",
      "source": [
        "import seaborn as sns\n",
        "import numpy as np\n",
        "import pandas as pd\n",
        "import matplotlib.pyplot as plt\n",
        "import scipy\n",
        "import sklearn"
      ],
      "metadata": {
        "id": "zx4XskusYzMu"
      },
      "execution_count": null,
      "outputs": []
    },
    {
      "cell_type": "code",
      "source": [
        "if __name__ == '__main__':\n",
        "    from google.colab import drive\n",
        "    drive.mount('/content/drive')\n",
        "# todo start #\n",
        "# please modify YourFilePath\n",
        "    data_file = \"/content/drive/MyDrive/xxx/heart_failure_clinical_records_dataset.csv\"\n",
        "# todo end #\n",
        "    data_df = pd.read_csv(data_file)\n",
        "    data_df.insert(0, 'patient_id', range(1, 1 + len(data_df)))\n",
        "    data_df.head(10)"
      ],
      "metadata": {
        "id": "1u0Nr4npbBbB",
        "colab": {
          "base_uri": "https://localhost:8080/"
        },
        "outputId": "5d968dc0-ca70-4c51-cbb5-a7201fc2f6e6"
      },
      "execution_count": null,
      "outputs": [
        {
          "output_type": "stream",
          "name": "stdout",
          "text": [
            "Mounted at /content/drive\n"
          ]
        }
      ]
    },
    {
      "cell_type": "code",
      "source": [
        "# data_df.head(5)"
      ],
      "metadata": {
        "id": "DmPIM_Ag8KzN"
      },
      "execution_count": null,
      "outputs": []
    },
    {
      "cell_type": "markdown",
      "metadata": {
        "id": "WC1I0m4XFRkX"
      },
      "source": [
        "## Task 1. Basic summary"
      ]
    },
    {
      "cell_type": "code",
      "metadata": {
        "id": "CQvmriIuFRkY"
      },
      "source": [
        "def basic_summary(data_df):\n",
        "  # List of attributes\n",
        "  attributes = ['age', 'creatinine_phosphokinase']\n",
        "\n",
        "  # Initialize an empty dictionary to store the results\n",
        "  results = {}\n",
        "\n",
        "  for attr in attributes:\n",
        "    ### Calculate statistics\n",
        "    # Write your code below\n",
        "    mean = data_df[attr].mean();\n",
        "    std_dev = data_df[attr].std();\n",
        "    mode = data_df[attr].mode().iloc[0];\n",
        "    median = data_df[attr].median();\n",
        "    min_val = data_df[attr].min();\n",
        "    q1 = data_df[attr].quantile(0.25)\n",
        "    q3 = data_df[attr].quantile(0.75)\n",
        "    max_val = data_df[attr].max()\n",
        "\n",
        "    # Store the results in the dictionary\n",
        "    results[attr] = {\n",
        "      'Mean': mean,\n",
        "      'Standard Deviation': std_dev,\n",
        "      'Mode': mode,\n",
        "      'Median': median,\n",
        "      'Five-number summary': {\n",
        "        'Min': min_val,\n",
        "        'Q1': q1,\n",
        "        'Median': median,\n",
        "        'Q3': q3,\n",
        "        'Max': max_val\n",
        "      }\n",
        "    }\n",
        "\n",
        "  return results"
      ],
      "execution_count": null,
      "outputs": []
    },
    {
      "cell_type": "code",
      "source": [
        "# Test the output of your function\n",
        "if __name__=='__main__':\n",
        "  results = basic_summary(data_df)\n",
        "    # Print the results\n",
        "  for attr, stats in results.items():\n",
        "    print(f'Attribute: {attr}')\n",
        "    for stat, value in stats.items():\n",
        "      if stat == 'Five-number summary':\n",
        "        print(stat + ':')\n",
        "        for key, val in value.items():\n",
        "          print(f'  {key}: {val}')\n",
        "      else:\n",
        "        print(f'{stat}: {value}')\n",
        "    print('\\n')"
      ],
      "metadata": {
        "id": "kL8K-ZIga972",
        "colab": {
          "base_uri": "https://localhost:8080/"
        },
        "outputId": "97f5e90d-5181-4cd1-fa05-13a0faeda44e"
      },
      "execution_count": null,
      "outputs": [
        {
          "output_type": "stream",
          "name": "stdout",
          "text": [
            "Attribute: age\n",
            "Mean: 60.83389297658862\n",
            "Standard Deviation: 11.89480907404447\n",
            "Mode: 60.0\n",
            "Median: 60.0\n",
            "Five-number summary:\n",
            "  Min: 40.0\n",
            "  Q1: 51.0\n",
            "  Median: 60.0\n",
            "  Q3: 70.0\n",
            "  Max: 95.0\n",
            "\n",
            "\n",
            "Attribute: creatinine_phosphokinase\n",
            "Mean: 581.8394648829432\n",
            "Standard Deviation: 970.2878807124362\n",
            "Mode: 582\n",
            "Median: 250.0\n",
            "Five-number summary:\n",
            "  Min: 23\n",
            "  Q1: 116.5\n",
            "  Median: 250.0\n",
            "  Q3: 582.0\n",
            "  Max: 7861\n",
            "\n",
            "\n"
          ]
        }
      ]
    },
    {
      "cell_type": "markdown",
      "metadata": {
        "id": "8XiEGUt2FRkY"
      },
      "source": [
        "## Task 2. Box plot"
      ]
    },
    {
      "cell_type": "code",
      "metadata": {
        "id": "qKUcWVy0FRkZ"
      },
      "source": [
        "def boxplot_df(data_df):\n",
        "  # Initialize an empty dictionary to store the results\n",
        "  results = {}\n",
        "\n",
        "  ### (1) Boxplot of platelets\n",
        "  # Write your code below\n",
        "  fig, ax = plt.subplots()\n",
        "  boxplot =ax.boxplot(data_df['platelets'])\n",
        "  results['platelets'] = [item.get_ydata()[0] for item in boxplot['whiskers'] + boxplot['medians'] + boxplot['caps']]\n",
        "  plt.title('Boxplot of Platelets')\n",
        "  plt.show()\n",
        "  plt.close()\n",
        "\n",
        "  ### (2) Boxplot of platelets for various values of attribute \"sex\"\n",
        "  # Write your code below\n",
        "  fig, ax = plt.subplots()\n",
        "  filter1=data_df['sex']==1\n",
        "  filter0=data_df['sex']==0\n",
        "  df0=data_df[filter0]\n",
        "  df1=data_df[filter1]\n",
        "  boxplot = ax.boxplot([df1['platelets'],df0['platelets']],labels = ['1', '0'])\n",
        "  results['platelets_by_sex'] = [item.get_ydata()[0] for item in boxplot['whiskers'] + boxplot['medians'] + boxplot['caps']]\n",
        "  plt.title('Boxplot of Platelets by Sex')\n",
        "  plt.xlabel('Sex')\n",
        "  plt.ylabel('Platelets')\n",
        "  plt.show()\n",
        "  plt.close()\n",
        "\n",
        "\n",
        "  ### (3) Boxplot of platelets for various values of attribute \"diabetes\"\n",
        "  # Write your code below\n",
        "  fig, ax = plt.subplots()\n",
        "  filter1=data_df['diabetes']==1\n",
        "  filter0=data_df['diabetes']==0\n",
        "  df0=data_df[filter0]\n",
        "  df1=data_df[filter1]\n",
        "  boxplot = ax.boxplot([df0['platelets'],df1['platelets']],labels = ['0', '1'])\n",
        "\n",
        "  results['platelets_by_diabetes'] = [item.get_ydata()[0] for item in boxplot['whiskers'] + boxplot['medians'] + boxplot['caps']]\n",
        "  plt.title('Boxplot of Platelets by Diabetes')\n",
        "  plt.xlabel('Diabetes')\n",
        "  plt.ylabel('Platelets')\n",
        "  plt.show()\n",
        "  plt.close()\n",
        "\n",
        "  return results"
      ],
      "execution_count": null,
      "outputs": []
    },
    {
      "cell_type": "code",
      "source": [
        "# Test the output of your function:\n",
        "if __name__ == '__main__':\n",
        "    results = boxplot_df(data_df)\n",
        "    for key, value in results.items():\n",
        "      print(f'{key}:')\n",
        "      if isinstance(value, dict):\n",
        "          for sub_key, sub_value in value.items():\n",
        "              print(f'  {sub_key}: {sub_value}')\n",
        "      else:\n",
        "          print(f'  {value}')\n",
        "      print('\\n')"
      ],
      "metadata": {
        "id": "c_NMlOTFbICw",
        "colab": {
          "base_uri": "https://localhost:8080/",
          "height": 1000
        },
        "outputId": "a3abab0b-eec1-4f39-9a9a-c7c54d5c56ee"
      },
      "execution_count": null,
      "outputs": [
        {
          "output_type": "display_data",
          "data": {
            "text/plain": [
              "<Figure size 640x480 with 1 Axes>"
            ],
            "image/png": "[encoded data removed]"
          },
          "metadata": {}
        },
        {
          "output_type": "display_data",
          "data": {
            "text/plain": [
              "<Figure size 640x480 with 1 Axes>"
            ],
            "image/png": "[encoded data removed]"
          },
          "metadata": {}
        },
        {
          "output_type": "display_data",
          "data": {
            "text/plain": [
              "<Figure size 640x480 with 1 Axes>"
            ],
            "image/png": "[encoded data removed]"
          },
          "metadata": {}
        },
        {
          "output_type": "stream",
          "name": "stdout",
          "text": [
            "platelets:\n",
            "  [212500.0, 303500.0, 262000.0, 87000.0, 427000.0]\n",
            "\n",
            "\n",
            "platelets_by_sex:\n",
            "  [203000.0, 293750.0, 223000.0, 319000.0, 253000.0, 263358.03, 70000.0, 406000.0, 87000.0, 451000.0]\n",
            "\n",
            "\n",
            "platelets_by_diabetes:\n",
            "  [210000.0, 294750.0, 221000.0, 310000.0, 257000.0, 263358.03, 105000.0, 418000.0, 122000.0, 390000.0]\n",
            "\n",
            "\n"
          ]
        }
      ]
    },
    {
      "cell_type": "markdown",
      "metadata": {
        "id": "cXqfcvGAFRkZ"
      },
      "source": [
        "## Task 3. Hist plot"
      ]
    },
    {
      "cell_type": "code",
      "metadata": {
        "id": "J9r00oA4FRkZ"
      },
      "source": [
        "def histplot_df(data_df):\n",
        "  # Initialize an empty dictionary to store the results\n",
        "  hist_results = {}\n",
        "\n",
        "  ### Histogram of age\n",
        "  # Write your code below\n",
        "  fig = plt.figure() # create new figure\n",
        "  ax = plt.subplot() # add an axes to current figure\n",
        "  hist=ax.hist(data_df['age'], bins = 8,edgecolor = 'white', linewidth = 15)\n",
        "\n",
        "\n",
        "  n, bins, patches = hist\n",
        "  # Store the results\n",
        "  hist_results['age'] = {\n",
        "      'counts': n,\n",
        "      'bin_edges': bins\n",
        "  }\n",
        "  plt.title('Histogram of Age')\n",
        "  plt.xlabel('Age')\n",
        "  plt.ylabel('Frequency')\n",
        "  plt.show()\n",
        "  plt.close()\n",
        "\n",
        "\n",
        "  ### Histogram of ejection_fraction\n",
        "  # Write your code below\n",
        "  fig = plt.figure() # create new figure\n",
        "  ax = plt.subplot() # add an axes to current figure\n",
        "  hist=ax.hist(data_df['ejection_fraction'], bins = 8,edgecolor = 'white', linewidth = 15)\n",
        "\n",
        "\n",
        "  n, bins, patches = hist\n",
        "  # Store the results\n",
        "  hist_results['ejection_fraction'] = {\n",
        "      'counts': n,\n",
        "      'bin_edges': bins\n",
        "  }\n",
        "  plt.title('Histogram of Ejection Fraction')\n",
        "  plt.xlabel('Ejection Fraction')\n",
        "  plt.ylabel('Frequency')\n",
        "  plt.show()\n",
        "  plt.close()\n",
        "\n",
        "  return hist_results"
      ],
      "execution_count": null,
      "outputs": []
    },
    {
      "cell_type": "code",
      "source": [
        "# Test the output of your function\n",
        "if __name__ == '__main__':\n",
        "  hist_results = histplot_df(data_df)\n",
        "  # Print the results\n",
        "  for attr, result in hist_results.items():\n",
        "      print(f'\\nAttribute: {attr}')\n",
        "      print(f'Counts: {result[\"counts\"]}')\n",
        "      print(f'Bin edges: {result[\"bin_edges\"]}')"
      ],
      "metadata": {
        "id": "kQd9N4IcbVxr",
        "colab": {
          "base_uri": "https://localhost:8080/",
          "height": 1000
        },
        "outputId": "e8508a41-d91d-4e9c-bbb0-f53eaf737aff"
      },
      "execution_count": null,
      "outputs": [
        {
          "output_type": "display_data",
          "data": {
            "text/plain": [
              "<Figure size 640x480 with 1 Axes>"
            ],
            "image/png": "[encoded data removed]"
          },
          "metadata": {}
        },
        {
          "output_type": "display_data",
          "data": {
            "text/plain": [
              "<Figure size 640x480 with 1 Axes>"
            ],
            "image/png": "[encoded data removed]"
          },
          "metadata": {}
        },
        {
          "output_type": "stream",
          "name": "stdout",
          "text": [
            "\n",
            "Attribute: age\n",
            "Counts: [40. 53. 69. 52. 44. 24. 11.  6.]\n",
            "Bin edges: [40.    46.875 53.75  60.625 67.5   74.375 81.25  88.125 95.   ]\n",
            "\n",
            "Attribute: ejection_fraction\n",
            "Counts: [23. 70. 89. 57. 24. 33.  2.  1.]\n",
            "Bin edges: [14.   22.25 30.5  38.75 47.   55.25 63.5  71.75 80.  ]\n"
          ]
        }
      ]
    },
    {
      "cell_type": "markdown",
      "metadata": {
        "id": "uxdZUElAFRkZ"
      },
      "source": [
        "# Task 4. Scatter plot"
      ]
    },
    {
      "cell_type": "code",
      "metadata": {
        "id": "FuBfJ-J6FRka"
      },
      "source": [
        "def scatterplot_df(data_df):\n",
        "  # Scatter plot of serum_creatinine and serum_sodium\n",
        "  # Write your code below\n",
        "  fig = plt.figure() # create new figure\n",
        "  ax = plt.subplot() # add an axes to current figure\n",
        "\n",
        "  scatter=ax.scatter(x = data_df['serum_creatinine'], y = data_df['serum_sodium'])\n",
        "  # ax.set_xlim(0, 240)#x range\n",
        "\n",
        "\n",
        "  plt.title('Scatter Plot of Serum Creatinine and Serum Sodium')\n",
        "  plt.xlabel('Serum Creatinine')\n",
        "  plt.ylabel('Serum Sodium')\n",
        "  plt.show()\n",
        "\n",
        "  # Calculate and print the correlation\n",
        "  # Write your code to calculate correlation\n",
        "\n",
        "  # meanOfserum_creatinine=data_df['serum_creatinine'].mean()\n",
        "  # meanOfserum_sodium=data_df['serum_sodium'].mean()\n",
        "  # sdOfserum_creatinine=data_df['serum_creatinine'].std()\n",
        "  # sdOfserum_sodium=data_df['serum_sodium'].std()\n",
        "\n",
        "  r=data_df[['serum_creatinine', 'serum_sodium']].corr(method='pearson')\n",
        "\n",
        "  correlation = r.iloc[0,1]\n",
        "  return correlation"
      ],
      "execution_count": null,
      "outputs": []
    },
    {
      "cell_type": "code",
      "source": [
        "# g=data_df[['serum_creatinine', 'serum_sodium']].corr(method='pearson')\n",
        "# print(g.iloc[0,1])"
      ],
      "metadata": {
        "colab": {
          "base_uri": "https://localhost:8080/"
        },
        "id": "83dkbH-tKnVs",
        "outputId": "45147c4d-5abc-4e81-f8a1-8e29caf04e42"
      },
      "execution_count": null,
      "outputs": [
        {
          "output_type": "stream",
          "name": "stdout",
          "text": [
            "-0.18909521009117405\n"
          ]
        }
      ]
    },
    {
      "cell_type": "code",
      "source": [
        "if __name__=='__main__':\n",
        "  correlation = scatterplot_df(data_df)\n",
        "  print(f'Correlation between Serum Creatinine and Serum Sodium: {correlation}')"
      ],
      "metadata": {
        "id": "QKy9uMxkbfTx",
        "colab": {
          "base_uri": "https://localhost:8080/",
          "height": 489
        },
        "outputId": "6872bcdd-56bc-4f41-b741-1b00b2a5be6c"
      },
      "execution_count": null,
      "outputs": [
        {
          "output_type": "display_data",
          "data": {
            "text/plain": [
              "<Figure size 640x480 with 1 Axes>"
            ],
            "image/png": "[encoded data removed]"
          },
          "metadata": {}
        },
        {
          "output_type": "stream",
          "name": "stdout",
          "text": [
            "Correlation between Serum Creatinine and Serum Sodium: -0.18909521009117405\n"
          ]
        }
      ]
    },
    {
      "cell_type": "markdown",
      "metadata": {
        "id": "E4zuSdubFRka"
      },
      "source": [
        "## Task 5. Correlation"
      ]
    },
    {
      "cell_type": "code",
      "metadata": {
        "id": "iEcXOttPFRkb"
      },
      "source": [
        "def corr_coefficient(data_df):\n",
        "  # List of attributes\n",
        "  attributes = ['age', 'sex', 'anaemia', 'diabetes', 'high_blood_pressure', 'ejection_fraction', 'platelets', 'serum_creatinine', 'serum_sodium', 'smoking']\n",
        "\n",
        "  ### Write your code below\n",
        "  # Calculate correlations and store them in a dictionary\n",
        "  #correlations = data_df[attributes+['DEATH_EVENT']].corr(method='pearson')\n",
        "  correlations_df = data_df[attributes+['DEATH_EVENT']].corr(method='pearson')\n",
        "  correlations= correlations_df['DEATH_EVENT'].to_dict()\n",
        "\n",
        "  # Get the top 3 most correlated attributes\n",
        "  abs_correlations=correlations_df['DEATH_EVENT'].abs().sort_values(ascending=False)\n",
        "  top_3=abs_correlations.drop(abs_correlations.index[0])\n",
        "  top_3=top_3.iloc[0:3]\n",
        "\n",
        "\n",
        "  return correlations, top_3"
      ],
      "execution_count": null,
      "outputs": []
    },
    {
      "cell_type": "code",
      "source": [
        "if __name__=='__main__':\n",
        "  correlations, top_3 = corr_coefficient(data_df)\n",
        "  # Print the top 3 most correlated attributes along with their correlation values\n",
        "  for attr in top_3.index:\n",
        "      print(f'Attribute: {attr}, Correlation with DEATH_EVENT: {correlations[attr]}')"
      ],
      "metadata": {
        "id": "5DKWs0FZbmZT",
        "colab": {
          "base_uri": "https://localhost:8080/"
        },
        "outputId": "556c8821-1e20-4fee-b28c-571d5869b656"
      },
      "execution_count": null,
      "outputs": [
        {
          "output_type": "stream",
          "name": "stdout",
          "text": [
            "Attribute: serum_creatinine, Correlation with DEATH_EVENT: 0.29427756098414914\n",
            "Attribute: ejection_fraction, Correlation with DEATH_EVENT: -0.26860331239406127\n",
            "Attribute: age, Correlation with DEATH_EVENT: 0.25372854308800347\n"
          ]
        }
      ]
    },
    {
      "cell_type": "markdown",
      "metadata": {
        "id": "gF11LbKwFRkb"
      },
      "source": [
        "# Task 6. $\\chi^2$-test\n",
        "\n"
      ]
    },
    {
      "cell_type": "markdown",
      "source": [
        "### $\\chi^2$-test of diabetes and DEATH_EVENT"
      ],
      "metadata": {
        "id": "JPd6oWw4_OGY"
      }
    },
    {
      "cell_type": "code",
      "metadata": {
        "id": "uqhLWhwJAHfI"
      },
      "source": [
        "def chi_square_diabetes(data_df):\n",
        "  # Create a contingency table\n",
        "  # Write your code below\n",
        "  from scipy import stats\n",
        "  contingency_table = pd.crosstab(data_df['diabetes'], data_df['DEATH_EVENT'])\n",
        "\n",
        "  # Print the contingency table\n",
        "  print('Contingency Table:')\n",
        "  print(contingency_table)\n",
        "\n",
        "  # Perform the Chi-Square test\n",
        "  # Write your code below\n",
        "  chi2, p, dof, expected = stats.chi2_contingency(contingency_table)\n",
        "\n",
        "  # Print the Chi-Square value and the p-value\n",
        "  print(f'Chi-Square value: {chi2}')\n",
        "  print(f'p-value: {p}')\n",
        "\n",
        "  if p < 0.01:\n",
        "      msg = 'The attributes diabetes and DEATH_EVENT are dependent on each other.'\n",
        "  else:\n",
        "      msg = 'The attributes diabetes and DEATH_EVENT are independent from each other.'\n",
        "\n",
        "  return chi2, p, msg"
      ],
      "execution_count": null,
      "outputs": []
    },
    {
      "cell_type": "code",
      "source": [
        "# Test the output of your function\n",
        "if __name__ == '__main__':\n",
        "\n",
        "  chi2, p, msg = chi_square_diabetes(data_df)\n",
        "\n",
        "  # Print the Chi-Square value and the p-value\n",
        "  print(f'Chi-Square value: {chi2}')\n",
        "  print(f'p-value: {p}')\n",
        "  # Check if the p-value is less than the significance level\n",
        "  print(msg)"
      ],
      "metadata": {
        "id": "COR6MZw3bxJb",
        "colab": {
          "base_uri": "https://localhost:8080/"
        },
        "outputId": "3643dfde-80b2-435e-a613-deefa82e24b0"
      },
      "execution_count": null,
      "outputs": [
        {
          "output_type": "stream",
          "name": "stdout",
          "text": [
            "Contingency Table:\n",
            "DEATH_EVENT    0   1\n",
            "diabetes            \n",
            "0            118  56\n",
            "1             85  40\n",
            "Chi-Square value: 0.0\n",
            "p-value: 1.0\n",
            "Chi-Square value: 0.0\n",
            "p-value: 1.0\n",
            "The attributes diabetes and DEATH_EVENT are independent from each other.\n"
          ]
        }
      ]
    },
    {
      "cell_type": "markdown",
      "source": [
        "### $\\chi^2$-test of smoking and DEATH_EVENT"
      ],
      "metadata": {
        "id": "z3fO3C9Y_ZhU"
      }
    },
    {
      "cell_type": "code",
      "source": [
        "def chi2_square_smoking(data_df):\n",
        "  # Create a contingency table\n",
        "  # Write your code below\n",
        "  from scipy import stats\n",
        "  contingency_table = pd.crosstab(data_df['smoking'], data_df['DEATH_EVENT'])\n",
        "\n",
        "  # Print the contingency table\n",
        "  print('Contingency Table:')\n",
        "  print(contingency_table)\n",
        "\n",
        "  # Perform the Chi-Square test\n",
        "  # Write your code below\n",
        "  chi2, p, dof, expected = stats.chi2_contingency(contingency_table)\n",
        "\n",
        "  # Print the Chi-Square value and the p-value\n",
        "  print(f'Chi-Square value: {chi2}')\n",
        "  print(f'p-value: {p}')\n",
        "\n",
        "  # Check if the p-value is less than the significance level\n",
        "  if p < 0.01:\n",
        "      msg = 'The attributes smoking and DEATH_EVENT are dependent on each other.'\n",
        "  else:\n",
        "      msg = 'The attributes smoking and DEATH_EVENT are independent from each other.'\n",
        "\n",
        "  return chi2, p, msg"
      ],
      "metadata": {
        "id": "wi_RM5Wa_kCn"
      },
      "execution_count": null,
      "outputs": []
    },
    {
      "cell_type": "code",
      "source": [
        "# Test the output of your function\n",
        "if __name__ == '__main__':\n",
        "  chi2, p, msg = chi2_square_smoking(data_df)\n",
        "  # Print the Chi-Square value and the p-value\n",
        "  print(f'Chi-Square value: {chi2}')\n",
        "  print(f'p-value: {p}')\n",
        "  # Check if the p-value is less than the significance level\n",
        "  print(msg)"
      ],
      "metadata": {
        "id": "Sp5UmwzRb3ir",
        "colab": {
          "base_uri": "https://localhost:8080/"
        },
        "outputId": "bca7c843-2d42-4f18-e0d6-35cca0ca7058"
      },
      "execution_count": null,
      "outputs": [
        {
          "output_type": "stream",
          "name": "stdout",
          "text": [
            "Contingency Table:\n",
            "DEATH_EVENT    0   1\n",
            "smoking             \n",
            "0            137  66\n",
            "1             66  30\n",
            "Chi-Square value: 0.007331473567119502\n",
            "p-value: 0.9317652998235507\n",
            "Chi-Square value: 0.007331473567119502\n",
            "p-value: 0.9317652998235507\n",
            "The attributes smoking and DEATH_EVENT are independent from each other.\n"
          ]
        }
      ]
    },
    {
      "cell_type": "markdown",
      "metadata": {
        "id": "sSO9g2beFRkb"
      },
      "source": [
        "## Task 7. Normalization"
      ]
    },
    {
      "cell_type": "code",
      "metadata": {
        "id": "7xb3hddiFRkb"
      },
      "source": [
        "# Normalize attribute time to range [0, 1]\n",
        "def min_max_norm(data_df):\n",
        "# Write your code below\n",
        "  from sklearn.preprocessing import MinMaxScaler\n",
        "  scaler = MinMaxScaler(feature_range=(0,1))\n",
        "  data_df['time'] = scaler.fit_transform(data_df[['time']])\n",
        "\n",
        "  return data_df['time'].head(10)"
      ],
      "execution_count": null,
      "outputs": []
    },
    {
      "cell_type": "code",
      "source": [
        "# Test the output of your function\n",
        "if __name__ == '__main__':\n",
        "  head = min_max_norm(data_df)\n",
        "  print(head)"
      ],
      "metadata": {
        "id": "AZa2t5HKcB9L",
        "colab": {
          "base_uri": "https://localhost:8080/"
        },
        "outputId": "38d78747-d2d4-4135-fd69-66322fe7d9b5"
      },
      "execution_count": null,
      "outputs": [
        {
          "output_type": "stream",
          "name": "stdout",
          "text": [
            "0    0.000000\n",
            "1    0.007117\n",
            "2    0.010676\n",
            "3    0.010676\n",
            "4    0.014235\n",
            "5    0.014235\n",
            "6    0.021352\n",
            "7    0.021352\n",
            "8    0.021352\n",
            "9    0.021352\n",
            "Name: time, dtype: float64\n"
          ]
        }
      ]
    },
    {
      "cell_type": "code",
      "source": [
        "# attributes = ['creatinine_phosphokinase', 'ejection_fraction', 'platelets', 'serum_sodium', 'serum_creatinine']\n",
        "# data_df[attributes].head(10)"
      ],
      "metadata": {
        "colab": {
          "base_uri": "https://localhost:8080/",
          "height": 363
        },
        "id": "BK_0xIbYigGg",
        "outputId": "83020fd1-10cb-4f03-f303-56b749368219"
      },
      "execution_count": null,
      "outputs": [
        {
          "output_type": "execute_result",
          "data": {
            "text/plain": [
              "   creatinine_phosphokinase  ejection_fraction  platelets  serum_sodium  \\\n",
              "0                       582                 20  265000.00           130   \n",
              "1                      7861                 38  263358.03           136   \n",
              "2                       146                 20  162000.00           129   \n",
              "3                       111                 20  210000.00           137   \n",
              "4                       160                 20  327000.00           116   \n",
              "5                        47                 40  204000.00           132   \n",
              "6                       246                 15  127000.00           137   \n",
              "7                       315                 60  454000.00           131   \n",
              "8                       157                 65  263358.03           138   \n",
              "9                       123                 35  388000.00           133   \n",
              "\n",
              "   serum_creatinine  \n",
              "0               1.9  \n",
              "1               1.1  \n",
              "2               1.3  \n",
              "3               1.9  \n",
              "4               2.7  \n",
              "5               2.1  \n",
              "6               1.2  \n",
              "7               1.1  \n",
              "8               1.5  \n",
              "9               9.4  "
            ],
            "text/html": [
              "\n",
              "  <div id=\"df-56f9df40-eb07-429d-b293-3e4771bb061d\" class=\"colab-df-container\">\n",
              "    <div>\n",
              "<style scoped>\n",
              "    .dataframe tbody tr th:only-of-type {\n",
              "        vertical-align: middle;\n",
              "    }\n",
              "\n",
              "    .dataframe tbody tr th {\n",
              "        vertical-align: top;\n",
              "    }\n",
              "\n",
              "    .dataframe thead th {\n",
              "        text-align: right;\n",
              "    }\n",
              "</style>\n",
              "<table border=\"1\" class=\"dataframe\">\n",
              "  <thead>\n",
              "    <tr style=\"text-align: right;\">\n",
              "      <th></th>\n",
              "      <th>creatinine_phosphokinase</th>\n",
              "      <th>ejection_fraction</th>\n",
              "      <th>platelets</th>\n",
              "      <th>serum_sodium</th>\n",
              "      <th>serum_creatinine</th>\n",
              "    </tr>\n",
              "  </thead>\n",
              "  <tbody>\n",
              "    <tr>\n",
              "      <th>0</th>\n",
              "      <td>582</td>\n",
              "      <td>20</td>\n",
              "      <td>265000.00</td>\n",
              "      <td>130</td>\n",
              "      <td>1.9</td>\n",
              "    </tr>\n",
              "    <tr>\n",
              "      <th>1</th>\n",
              "      <td>7861</td>\n",
              "      <td>38</td>\n",
              "      <td>263358.03</td>\n",
              "      <td>136</td>\n",
              "      <td>1.1</td>\n",
              "    </tr>\n",
              "    <tr>\n",
              "      <th>2</th>\n",
              "      <td>146</td>\n",
              "      <td>20</td>\n",
              "      <td>162000.00</td>\n",
              "      <td>129</td>\n",
              "      <td>1.3</td>\n",
              "    </tr>\n",
              "    <tr>\n",
              "      <th>3</th>\n",
              "      <td>111</td>\n",
              "      <td>20</td>\n",
              "      <td>210000.00</td>\n",
              "      <td>137</td>\n",
              "      <td>1.9</td>\n",
              "    </tr>\n",
              "    <tr>\n",
              "      <th>4</th>\n",
              "      <td>160</td>\n",
              "      <td>20</td>\n",
              "      <td>327000.00</td>\n",
              "      <td>116</td>\n",
              "      <td>2.7</td>\n",
              "    </tr>\n",
              "    <tr>\n",
              "      <th>5</th>\n",
              "      <td>47</td>\n",
              "      <td>40</td>\n",
              "      <td>204000.00</td>\n",
              "      <td>132</td>\n",
              "      <td>2.1</td>\n",
              "    </tr>\n",
              "    <tr>\n",
              "      <th>6</th>\n",
              "      <td>246</td>\n",
              "      <td>15</td>\n",
              "      <td>127000.00</td>\n",
              "      <td>137</td>\n",
              "      <td>1.2</td>\n",
              "    </tr>\n",
              "    <tr>\n",
              "      <th>7</th>\n",
              "      <td>315</td>\n",
              "      <td>60</td>\n",
              "      <td>454000.00</td>\n",
              "      <td>131</td>\n",
              "      <td>1.1</td>\n",
              "    </tr>\n",
              "    <tr>\n",
              "      <th>8</th>\n",
              "      <td>157</td>\n",
              "      <td>65</td>\n",
              "      <td>263358.03</td>\n",
              "      <td>138</td>\n",
              "      <td>1.5</td>\n",
              "    </tr>\n",
              "    <tr>\n",
              "      <th>9</th>\n",
              "      <td>123</td>\n",
              "      <td>35</td>\n",
              "      <td>388000.00</td>\n",
              "      <td>133</td>\n",
              "      <td>9.4</td>\n",
              "    </tr>\n",
              "  </tbody>\n",
              "</table>\n",
              "</div>\n",
              "    <div class=\"colab-df-buttons\">\n",
              "\n",
              "  <div class=\"colab-df-container\">\n",
              "    <button class=\"colab-df-convert\" onclick=\"convertToInteractive('df-56f9df40-eb07-429d-b293-3e4771bb061d')\"\n",
              "            title=\"Convert this dataframe to an interactive table.\"\n",
              "            style=\"display:none;\">\n",
              "\n",
              "  <svg xmlns=\"http://www.w3.org/2000/svg\" height=\"24px\" viewBox=\"0 -960 960 960\">\n",
              "    <path d=\"M120-120v-720h720v720H120Zm60-500h600v-160H180v160Zm220 220h160v-160H400v160Zm0 220h160v-160H400v160ZM180-400h160v-160H180v160Zm440 0h160v-160H620v160ZM180-180h160v-160H180v160Zm440 0h160v-160H620v160Z\"/>\n",
              "  </svg>\n",
              "    </button>\n",
              "\n",
              "  <style>\n",
              "    .colab-df-container {\n",
              "      display:flex;\n",
              "      gap: 12px;\n",
              "    }\n",
              "\n",
              "    .colab-df-convert {\n",
              "      background-color: #E8F0FE;\n",
              "      border: none;\n",
              "      border-radius: 50%;\n",
              "      cursor: pointer;\n",
              "      display: none;\n",
              "      fill: #1967D2;\n",
              "      height: 32px;\n",
              "      padding: 0 0 0 0;\n",
              "      width: 32px;\n",
              "    }\n",
              "\n",
              "    .colab-df-convert:hover {\n",
              "      background-color: #E2EBFA;\n",
              "      box-shadow: 0px 1px 2px rgba(60, 64, 67, 0.3), 0px 1px 3px 1px rgba(60, 64, 67, 0.15);\n",
              "      fill: #174EA6;\n",
              "    }\n",
              "\n",
              "    .colab-df-buttons div {\n",
              "      margin-bottom: 4px;\n",
              "    }\n",
              "\n",
              "    [theme=dark] .colab-df-convert {\n",
              "      background-color: #3B4455;\n",
              "      fill: #D2E3FC;\n",
              "    }\n",
              "\n",
              "    [theme=dark] .colab-df-convert:hover {\n",
              "      background-color: #434B5C;\n",
              "      box-shadow: 0px 1px 3px 1px rgba(0, 0, 0, 0.15);\n",
              "      filter: drop-shadow(0px 1px 2px rgba(0, 0, 0, 0.3));\n",
              "      fill: #FFFFFF;\n",
              "    }\n",
              "  </style>\n",
              "\n",
              "    <script>\n",
              "      const buttonEl =\n",
              "        document.querySelector('#df-56f9df40-eb07-429d-b293-3e4771bb061d button.colab-df-convert');\n",
              "      buttonEl.style.display =\n",
              "        google.colab.kernel.accessAllowed ? 'block' : 'none';\n",
              "\n",
              "      async function convertToInteractive(key) {\n",
              "        const element = document.querySelector('#df-56f9df40-eb07-429d-b293-3e4771bb061d');\n",
              "        const dataTable =\n",
              "          await google.colab.kernel.invokeFunction('convertToInteractive',\n",
              "                                                    [key], {});\n",
              "        if (!dataTable) return;\n",
              "\n",
              "        const docLinkHtml = 'Like what you see? Visit the ' +\n",
              "          '<a target=\"_blank\" href=https://colab.research.google.com/notebooks/data_table.ipynb>data table notebook</a>'\n",
              "          + ' to learn more about interactive tables.';\n",
              "        element.innerHTML = '';\n",
              "        dataTable['output_type'] = 'display_data';\n",
              "        await google.colab.output.renderOutput(dataTable, element);\n",
              "        const docLink = document.createElement('div');\n",
              "        docLink.innerHTML = docLinkHtml;\n",
              "        element.appendChild(docLink);\n",
              "      }\n",
              "    </script>\n",
              "  </div>\n",
              "\n",
              "\n",
              "<div id=\"df-df34cc91-1c60-4948-af5f-8361e77a5ee8\">\n",
              "  <button class=\"colab-df-quickchart\" onclick=\"quickchart('df-df34cc91-1c60-4948-af5f-8361e77a5ee8')\"\n",
              "            title=\"Suggest charts.\"\n",
              "            style=\"display:none;\">\n",
              "\n",
              "<svg xmlns=\"http://www.w3.org/2000/svg\" height=\"24px\"viewBox=\"0 0 24 24\"\n",
              "     width=\"24px\">\n",
              "    <g>\n",
              "        <path d=\"M19 3H5c-1.1 0-2 .9-2 2v14c0 1.1.9 2 2 2h14c1.1 0 2-.9 2-2V5c0-1.1-.9-2-2-2zM9 17H7v-7h2v7zm4 0h-2V7h2v10zm4 0h-2v-4h2v4z\"/>\n",
              "    </g>\n",
              "</svg>\n",
              "  </button>\n",
              "\n",
              "<style>\n",
              "  .colab-df-quickchart {\n",
              "      --bg-color: #E8F0FE;\n",
              "      --fill-color: #1967D2;\n",
              "      --hover-bg-color: #E2EBFA;\n",
              "      --hover-fill-color: #174EA6;\n",
              "      --disabled-fill-color: #AAA;\n",
              "      --disabled-bg-color: #DDD;\n",
              "  }\n",
              "\n",
              "  [theme=dark] .colab-df-quickchart {\n",
              "      --bg-color: #3B4455;\n",
              "      --fill-color: #D2E3FC;\n",
              "      --hover-bg-color: #434B5C;\n",
              "      --hover-fill-color: #FFFFFF;\n",
              "      --disabled-bg-color: #3B4455;\n",
              "      --disabled-fill-color: #666;\n",
              "  }\n",
              "\n",
              "  .colab-df-quickchart {\n",
              "    background-color: var(--bg-color);\n",
              "    border: none;\n",
              "    border-radius: 50%;\n",
              "    cursor: pointer;\n",
              "    display: none;\n",
              "    fill: var(--fill-color);\n",
              "    height: 32px;\n",
              "    padding: 0;\n",
              "    width: 32px;\n",
              "  }\n",
              "\n",
              "  .colab-df-quickchart:hover {\n",
              "    background-color: var(--hover-bg-color);\n",
              "    box-shadow: 0 1px 2px rgba(60, 64, 67, 0.3), 0 1px 3px 1px rgba(60, 64, 67, 0.15);\n",
              "    fill: var(--button-hover-fill-color);\n",
              "  }\n",
              "\n",
              "  .colab-df-quickchart-complete:disabled,\n",
              "  .colab-df-quickchart-complete:disabled:hover {\n",
              "    background-color: var(--disabled-bg-color);\n",
              "    fill: var(--disabled-fill-color);\n",
              "    box-shadow: none;\n",
              "  }\n",
              "\n",
              "  .colab-df-spinner {\n",
              "    border: 2px solid var(--fill-color);\n",
              "    border-color: transparent;\n",
              "    border-bottom-color: var(--fill-color);\n",
              "    animation:\n",
              "      spin 1s steps(1) infinite;\n",
              "  }\n",
              "\n",
              "  @keyframes spin {\n",
              "    0% {\n",
              "      border-color: transparent;\n",
              "      border-bottom-color: var(--fill-color);\n",
              "      border-left-color: var(--fill-color);\n",
              "    }\n",
              "    20% {\n",
              "      border-color: transparent;\n",
              "      border-left-color: var(--fill-color);\n",
              "      border-top-color: var(--fill-color);\n",
              "    }\n",
              "    30% {\n",
              "      border-color: transparent;\n",
              "      border-left-color: var(--fill-color);\n",
              "      border-top-color: var(--fill-color);\n",
              "      border-right-color: var(--fill-color);\n",
              "    }\n",
              "    40% {\n",
              "      border-color: transparent;\n",
              "      border-right-color: var(--fill-color);\n",
              "      border-top-color: var(--fill-color);\n",
              "    }\n",
              "    60% {\n",
              "      border-color: transparent;\n",
              "      border-right-color: var(--fill-color);\n",
              "    }\n",
              "    80% {\n",
              "      border-color: transparent;\n",
              "      border-right-color: var(--fill-color);\n",
              "      border-bottom-color: var(--fill-color);\n",
              "    }\n",
              "    90% {\n",
              "      border-color: transparent;\n",
              "      border-bottom-color: var(--fill-color);\n",
              "    }\n",
              "  }\n",
              "</style>\n",
              "\n",
              "  <script>\n",
              "    async function quickchart(key) {\n",
              "      const quickchartButtonEl =\n",
              "        document.querySelector('#' + key + ' button');\n",
              "      quickchartButtonEl.disabled = true;  // To prevent multiple clicks.\n",
              "      quickchartButtonEl.classList.add('colab-df-spinner');\n",
              "      try {\n",
              "        const charts = await google.colab.kernel.invokeFunction(\n",
              "            'suggestCharts', [key], {});\n",
              "      } catch (error) {\n",
              "        console.error('Error during call to suggestCharts:', error);\n",
              "      }\n",
              "      quickchartButtonEl.classList.remove('colab-df-spinner');\n",
              "      quickchartButtonEl.classList.add('colab-df-quickchart-complete');\n",
              "    }\n",
              "    (() => {\n",
              "      let quickchartButtonEl =\n",
              "        document.querySelector('#df-df34cc91-1c60-4948-af5f-8361e77a5ee8 button');\n",
              "      quickchartButtonEl.style.display =\n",
              "        google.colab.kernel.accessAllowed ? 'block' : 'none';\n",
              "    })();\n",
              "  </script>\n",
              "</div>\n",
              "    </div>\n",
              "  </div>\n"
            ]
          },
          "metadata": {},
          "execution_count": 37
        }
      ]
    },
    {
      "cell_type": "code",
      "source": [
        "# Normalize attributes to mean 0 std 1\n",
        "def z_score_norm(data_df):\n",
        "  attributes = ['creatinine_phosphokinase', 'ejection_fraction', 'platelets', 'serum_sodium', 'serum_creatinine']\n",
        "  # Write your code below\n",
        "\n",
        "  from sklearn.preprocessing import StandardScaler\n",
        "  scaler = StandardScaler()\n",
        "  for attr in attributes:\n",
        "    data_df[attr] = scaler.fit_transform(data_df[[attr]])\n",
        "\n",
        "  return data_df[attributes].head(10)"
      ],
      "metadata": {
        "id": "ruyDodTqMSki"
      },
      "execution_count": null,
      "outputs": []
    },
    {
      "cell_type": "code",
      "source": [
        "# Test the output of your function\n",
        "if __name__ == '__main__':\n",
        "  head = z_score_norm(data_df)\n",
        "  print(head)"
      ],
      "metadata": {
        "id": "i1N-3GuucIYk",
        "colab": {
          "base_uri": "https://localhost:8080/"
        },
        "outputId": "5fa57509-7ad2-4640-b7ec-8b0a5f754e79"
      },
      "execution_count": null,
      "outputs": [
        {
          "output_type": "stream",
          "name": "stdout",
          "text": [
            "   creatinine_phosphokinase  ejection_fraction     platelets  serum_sodium  \\\n",
            "0                  0.000166          -1.530560  1.681648e-02     -1.504036   \n",
            "1                  7.514640          -0.007077  7.535660e-09     -0.141976   \n",
            "2                 -0.449939          -1.530560 -1.038073e+00     -1.731046   \n",
            "3                 -0.486071          -1.530560 -5.464741e-01      0.085034   \n",
            "4                 -0.435486          -1.530560  6.517986e-01     -4.682176   \n",
            "5                 -0.552141           0.162199 -6.079240e-01     -1.050016   \n",
            "6                 -0.346704          -1.953749 -1.396531e+00      0.085034   \n",
            "7                 -0.275472           1.854958  1.952488e+00     -1.277026   \n",
            "8                 -0.438583           2.278147  7.535660e-09      0.312044   \n",
            "9                 -0.473683          -0.260991  1.276539e+00     -0.823006   \n",
            "\n",
            "   serum_creatinine  \n",
            "0          0.490057  \n",
            "1         -0.284552  \n",
            "2         -0.090900  \n",
            "3          0.490057  \n",
            "4          1.264666  \n",
            "5          0.683709  \n",
            "6         -0.187726  \n",
            "7         -0.284552  \n",
            "8          0.102752  \n",
            "9          7.752020  \n"
          ]
        }
      ]
    },
    {
      "cell_type": "code",
      "source": [
        "# Output to a new csv file\n",
        "if __name__ == '__main__':\n",
        "# Write your code below\n",
        "  file_name=\"data_normalized.csv\"\n",
        "  delimiter = \",\"\n",
        "  data_df.to_csv(file_name, sep=delimiter, index=False, header=True)\n",
        "  #Output your results from the above two steps to a new csv file named data normalized.csv (use\n",
        "  #“,” as field delimiter and include column names in the header)"
      ],
      "metadata": {
        "id": "-vV3xbi8MdUk"
      },
      "execution_count": null,
      "outputs": []
    },
    {
      "cell_type": "markdown",
      "metadata": {
        "id": "WfuDE__WFRkc"
      },
      "source": [
        "## Task 8. PCA"
      ]
    },
    {
      "cell_type": "code",
      "source": [
        "if __name__ == '__main__':\n",
        "  # Load the data\n",
        "  data_df = pd.read_csv('data_normalized.csv')"
      ],
      "metadata": {
        "id": "zGICun0ScVYL"
      },
      "execution_count": null,
      "outputs": []
    },
    {
      "cell_type": "code",
      "metadata": {
        "id": "m2Op6J7O3e-b"
      },
      "source": [
        "def cumulative_explained_variance(data_df):\n",
        "  # Plot the cumulative explained variance\n",
        "\n",
        "  # List of attributes to perform PCA on\n",
        "  attributes = ['creatinine_phosphokinase', 'ejection_fraction', 'platelets', 'serum_sodium', 'serum_creatinine']\n",
        "\n",
        "  # Write your code below\n",
        "  from sklearn.decomposition import PCA\n",
        "  pca = PCA()\n",
        "  pca.fit(data_df[attributes])\n",
        "  cumulative_explained_variance = np.cumsum(pca.explained_variance_ratio_)\n",
        "\n",
        "  figure = plt.plot(range(1, len(attributes) + 1), cumulative_explained_variance)\n",
        "  plt.xlabel('Number of Principal Components')\n",
        "  plt.ylabel('Cumulative Explained Variance')\n",
        "  plt.title('Cumulative Explained Variance vs Number of Principal Components')\n",
        "  plt.show()\n",
        "\n",
        "  # Store the cumulative explained variance in a dictionary\n",
        "  result = {'cumulative_explained_variance': cumulative_explained_variance.tolist()}\n",
        "  return result"
      ],
      "execution_count": null,
      "outputs": []
    },
    {
      "cell_type": "code",
      "source": [
        "# Test the output of your code\n",
        "if __name__ == '__main__':\n",
        "  result = cumulative_explained_variance(data_df)\n",
        "  # Print the output template\n",
        "  print('\\ncumulative explained variance:')\n",
        "  print(result)"
      ],
      "metadata": {
        "id": "IdLOGtHlcn7n",
        "colab": {
          "base_uri": "https://localhost:8080/",
          "height": 544
        },
        "outputId": "8af81af2-a38f-4b1e-cd42-46fd7eeba30c"
      },
      "execution_count": null,
      "outputs": [
        {
          "output_type": "display_data",
          "data": {
            "text/plain": [
              "<Figure size 640x480 with 1 Axes>"
            ],
            "image/png": "[encoded data removed]"
          },
          "metadata": {}
        },
        {
          "output_type": "stream",
          "name": "stdout",
          "text": [
            "\n",
            "cumulative explained variance:\n",
            "{'cumulative_explained_variance': [0.26035832501755896, 0.46896069595009515, 0.6661518535369085, 0.8531123654610124, 0.9999999999999999]}\n"
          ]
        }
      ]
    },
    {
      "cell_type": "code",
      "source": [
        "def pca_df(data_df):\n",
        "  # Transform the data by PCA\n",
        "  # Write your code below\n",
        "  from sklearn.decomposition import PCA\n",
        "  attributes = ['creatinine_phosphokinase', 'ejection_fraction', 'platelets', 'serum_sodium', 'serum_creatinine']\n",
        "  pca = PCA()\n",
        "  pca.fit(data_df[attributes])\n",
        "  cumsum = np.cumsum(pca.explained_variance_ratio_)\n",
        "  num_components = np.argmax(cumsum >= 0.9) + 1\n",
        "  #print(num_components)\n",
        "  pca = PCA(n_components=num_components)\n",
        "  data_reduced = pca.fit_transform(data_df[attributes])\n",
        "  return data_reduced"
      ],
      "metadata": {
        "id": "3JtQb9iU1EHl"
      },
      "execution_count": null,
      "outputs": []
    },
    {
      "cell_type": "code",
      "source": [
        "if __name__ == '__main__':\n",
        "  data_reduced = pca_df(data_df)\n",
        "  print(data_reduced)\n",
        "  # print(type(data_reduced))"
      ],
      "metadata": {
        "id": "lkqNZWYocwdk",
        "colab": {
          "base_uri": "https://localhost:8080/"
        },
        "outputId": "8ca4ab45-a652-4ead-e1a8-0cd5c4a9b3f8"
      },
      "execution_count": null,
      "outputs": [
        {
          "output_type": "stream",
          "name": "stdout",
          "text": [
            "[[ 1.93352067  0.59289095  0.29889284 -0.81387714  0.05848952]\n",
            " [-0.90395577  5.67961417  3.16212506  3.17783172  1.84341588]\n",
            " [ 2.19506499  0.54514754 -0.90775517 -0.68931348  0.46126782]\n",
            " ...\n",
            " [-3.09596053 -0.18640418  4.13651695 -1.59144296  0.98221054]\n",
            " [-0.3107225   1.58678494 -0.21828181  1.75838763 -0.05184391]\n",
            " [-0.46950364 -0.83861213  1.00347229 -0.65849858  0.1215455 ]]\n"
          ]
        }
      ]
    },
    {
      "cell_type": "code",
      "source": [
        "def output_df(data_reduced):\n",
        "  ### Output the reduced data to a new csv\n",
        "  # Write your code below\n",
        "  filename=\"data_reduced.csv\"\n",
        "  np.savetxt(filename, data_reduced, delimiter=',')\n",
        "\n",
        "  # Read the data from the file\n",
        "  data_from_file = np.loadtxt('data_reduced.csv', delimiter=',')\n",
        "  # Check if the data matches\n",
        "  if np.array_equal(data_reduced, data_from_file):\n",
        "      msg = \"The data matches.\"\n",
        "  else:\n",
        "      msg = \"The data does not match.\"\n",
        "\n",
        "  return msg"
      ],
      "metadata": {
        "id": "Fr9JaEI21ETJ"
      },
      "execution_count": null,
      "outputs": []
    },
    {
      "cell_type": "code",
      "source": [
        "if __name__ == '__main__':\n",
        "  msg = output_df(data_reduced)\n",
        "  print(msg)"
      ],
      "metadata": {
        "id": "AhCAgANEdJsM",
        "colab": {
          "base_uri": "https://localhost:8080/"
        },
        "outputId": "289a22ba-9645-4db9-9a88-cae7475a7245"
      },
      "execution_count": null,
      "outputs": [
        {
          "output_type": "stream",
          "name": "stdout",
          "text": [
            "The data matches.\n"
          ]
        }
      ]
    },
    {
      "cell_type": "code",
      "source": [
        "def five_number_summary(data_reduced):\n",
        "  ### Print the five-number summary for each obtained dimension\n",
        "  # Initialize an empty dictionary to store the results\n",
        "  results = {}\n",
        "\n",
        "  # Calculate and store the five-number summary for each obtained dimension\n",
        "  # Write your code below\n",
        "  for i in range(data_reduced.shape[1]):\n",
        "      results[f'Dimension {i+1}'] = {\n",
        "          'Min': np.min(data_reduced[:,i], axis=0),\n",
        "          'Q1': np.percentile(data_reduced[:,i], 25, axis=0),\n",
        "          'Median': np.median(data_reduced[:,i], axis=0),\n",
        "          'Q3': np.percentile(data_reduced[:,i], 75, axis=0),\n",
        "          'Max': np.max(data_reduced[:,i], axis=0)\n",
        "      }\n",
        "\n",
        "  return results"
      ],
      "metadata": {
        "id": "jmDcovPJO9nI"
      },
      "execution_count": null,
      "outputs": []
    },
    {
      "cell_type": "code",
      "source": [
        "if __name__ == '__main__':\n",
        "  results = five_number_summary(data_reduced)\n",
        "  # Print the output template\n",
        "  print('\\nFive Number Summary:')\n",
        "  for dimension, summary in results.items():\n",
        "      print(f'{dimension}:')\n",
        "      for stat, value in summary.items():\n",
        "          print(f'  {stat}: {value}')"
      ],
      "metadata": {
        "id": "eoGvsrfZdO7G",
        "colab": {
          "base_uri": "https://localhost:8080/"
        },
        "outputId": "25ef7ad5-3af3-46ea-a71f-f68aeb3bc7e9"
      },
      "execution_count": null,
      "outputs": [
        {
          "output_type": "stream",
          "name": "stdout",
          "text": [
            "\n",
            "Five Number Summary:\n",
            "Dimension 1:\n",
            "  Min: -3.095960534997593\n",
            "  Q1: -0.7539647337014974\n",
            "  Median: -0.15265114452802672\n",
            "  Q3: 0.5801408370911711\n",
            "  Max: 4.252172012886432\n",
            "Dimension 2:\n",
            "  Min: -4.012642124351812\n",
            "  Q1: -0.5262976548554374\n",
            "  Median: -0.07339062529774643\n",
            "  Q3: 0.38261387380096845\n",
            "  Max: 6.126576931564765\n",
            "Dimension 3:\n",
            "  Min: -2.037993609131624\n",
            "  Q1: -0.6397500525475877\n",
            "  Median: -0.12671549422461895\n",
            "  Q3: 0.3652816581869684\n",
            "  Max: 4.601363866954617\n",
            "Dimension 4:\n",
            "  Min: -3.612607047664211\n",
            "  Q1: -0.6209706730694848\n",
            "  Median: -0.06857259981702246\n",
            "  Q3: 0.5087712449272193\n",
            "  Max: 5.235180770160278\n",
            "Dimension 5:\n",
            "  Min: -3.391744232118596\n",
            "  Q1: -0.521546728352163\n",
            "  Median: -0.03192578968268151\n",
            "  Q3: 0.5127156242313938\n",
            "  Max: 3.556305436570305\n"
          ]
        }
      ]
    },
    {
      "cell_type": "markdown",
      "metadata": {
        "id": "v--0Zx67FRka"
      },
      "source": [
        "## Task 9. Missing values"
      ]
    },
    {
      "cell_type": "markdown",
      "metadata": {
        "id": "hUpiAoIczhfH"
      },
      "source": [
        "reloading the dataset"
      ]
    },
    {
      "cell_type": "code",
      "metadata": {
        "id": "qSXoKd5hFRkc"
      },
      "source": [
        "if __name__ == '__main__':\n",
        "  data_df = pd.read_csv(data_file)"
      ],
      "execution_count": null,
      "outputs": []
    },
    {
      "cell_type": "code",
      "metadata": {
        "id": "ymMjtWymy9um"
      },
      "source": [
        "def missing_value(data_df):\n",
        "  # Identify and fill in missing values\n",
        "  # Write your code below\n",
        "\n",
        "  # serum sodium value less than 130 mEq/L as missing values.\n",
        "  # Similarly, consider the serum creatinine greater than 3 also missing values.\n",
        "  # Please fill in the missing values with the corresponding attribute mod\n",
        "\n",
        "  data_df.loc[data_df['serum_sodium'] < 130, 'serum_sodium'] = data_df['serum_sodium'].mode()[0]\n",
        "  data_df.loc[data_df['serum_creatinine'] > 3, 'serum_creatinine'] = data_df['serum_creatinine'].mode()[0]\n",
        "\n",
        "\n",
        "  # Scatter plot of serum_creatinine and serum_sodium\n",
        "  # Write your code below\n",
        "  fig = plt.figure() # create new figure\n",
        "  ax = plt.subplot() # add an axes to current figure\n",
        "  ax.scatter(x = data_df['serum_creatinine'], y = data_df['serum_sodium'])\n",
        "  plt.xlabel('Serum Creatinine')\n",
        "  plt.ylabel('Serum Sodium')\n",
        "  plt.title('Scatter Plot of Serum Creatinine and Serum Sodium')\n",
        "  plt.show()\n",
        "\n",
        "  # Calculate and print the correlation\n",
        "  # Write your code to calculate correlation\n",
        "\n",
        "  r=data_df[['serum_creatinine', 'serum_sodium']].corr(method='pearson')\n",
        "  correlation = r.iloc[0,1]\n",
        "  return correlation"
      ],
      "execution_count": null,
      "outputs": []
    },
    {
      "cell_type": "code",
      "source": [
        "if __name__=='__main__':\n",
        "  correlation = missing_value(data_df)\n",
        "  print(f'Correlation coefficient between serum_creatinine and serum_sodium: {correlation}')"
      ],
      "metadata": {
        "id": "HhPPW8zkdXFG",
        "colab": {
          "base_uri": "https://localhost:8080/",
          "height": 489
        },
        "outputId": "311c7a87-2134-4f4b-d97f-38ed6bd87ea4"
      },
      "execution_count": null,
      "outputs": [
        {
          "output_type": "display_data",
          "data": {
            "text/plain": [
              "<Figure size 640x480 with 1 Axes>"
            ],
            "image/png": "[encoded data removed]"
          },
          "metadata": {}
        },
        {
          "output_type": "stream",
          "name": "stdout",
          "text": [
            "Correlation coefficient between serum_creatinine and serum_sodium: -0.1901725975568841\n"
          ]
        }
      ]
    }
  ]
}